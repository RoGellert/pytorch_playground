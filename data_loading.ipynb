{
 "cells": [
  {
   "cell_type": "code",
   "execution_count": 1,
   "id": "initial_id",
   "metadata": {
    "collapsed": true,
    "ExecuteTime": {
     "end_time": "2024-03-10T12:42:49.116371500Z",
     "start_time": "2024-03-10T12:42:25.276498300Z"
    }
   },
   "outputs": [],
   "source": [
    "import torch\n",
    "from torch import nn\n",
    "from torch.utils.data import DataLoader\n",
    "from torchvision import datasets\n",
    "from torchvision.transforms import ToTensor"
   ]
  },
  {
   "cell_type": "code",
   "execution_count": 2,
   "outputs": [],
   "source": [
    "training_data = datasets.FashionMNIST(\n",
    "    root=\"data\",\n",
    "    train=True,\n",
    "    download=True,\n",
    "    transform=ToTensor(),\n",
    ")\n",
    "\n",
    "test_data = datasets.FashionMNIST(\n",
    "    root=\"data\",\n",
    "    train=False,\n",
    "    download=True,\n",
    "    transform=ToTensor(),\n",
    ")"
   ],
   "metadata": {
    "collapsed": false,
    "ExecuteTime": {
     "end_time": "2024-03-10T12:42:50.009752300Z",
     "start_time": "2024-03-10T12:42:49.121063400Z"
    }
   },
   "id": "5e629fb2f5ba71de"
  },
  {
   "cell_type": "code",
   "execution_count": 3,
   "outputs": [
    {
     "name": "stdout",
     "output_type": "stream",
     "text": [
      "Shape of X [N, C, H, W]: torch.Size([64, 1, 28, 28])\n",
      "Shape of y: torch.Size([64]) torch.int64\n"
     ]
    }
   ],
   "source": [
    "batch_size = 64\n",
    "\n",
    "# Create data loaders.\n",
    "train_dataloader = DataLoader(training_data, batch_size=batch_size)\n",
    "test_dataloader = DataLoader(test_data, batch_size=batch_size)\n",
    "\n",
    "for X, y in test_dataloader:\n",
    "    print(f\"Shape of X [N, C, H, W]: {X.shape}\")\n",
    "    print(f\"Shape of y: {y.shape} {y.dtype}\")\n",
    "    break"
   ],
   "metadata": {
    "collapsed": false,
    "ExecuteTime": {
     "end_time": "2024-03-10T12:42:50.146956Z",
     "start_time": "2024-03-10T12:42:50.018882300Z"
    }
   },
   "id": "9fe7d7d7afe74283"
  },
  {
   "cell_type": "code",
   "execution_count": 4,
   "outputs": [
    {
     "name": "stdout",
     "output_type": "stream",
     "text": [
      "Using cuda device\n"
     ]
    }
   ],
   "source": [
    "device = (\n",
    "    \"cuda\"\n",
    "    if torch.cuda.is_available()\n",
    "    else \"mps\"\n",
    "    if torch.backends.mps.is_available()\n",
    "    else \"cpu\"\n",
    ")\n",
    "print(f\"Using {device} device\")"
   ],
   "metadata": {
    "collapsed": false,
    "ExecuteTime": {
     "end_time": "2024-03-10T12:42:51.556432Z",
     "start_time": "2024-03-10T12:42:50.146519300Z"
    }
   },
   "id": "d91bcfb32a21cb8c"
  },
  {
   "cell_type": "code",
   "execution_count": 5,
   "outputs": [
    {
     "name": "stdout",
     "output_type": "stream",
     "text": [
      "NeuralNetwork(\n",
      "  (flatten): Flatten(start_dim=1, end_dim=-1)\n",
      "  (linear_relu_stack): Sequential(\n",
      "    (0): Linear(in_features=784, out_features=512, bias=True)\n",
      "    (1): ReLU()\n",
      "    (2): Linear(in_features=512, out_features=512, bias=True)\n",
      "    (3): ReLU()\n",
      "    (4): Linear(in_features=512, out_features=10, bias=True)\n",
      "  )\n",
      ")\n"
     ]
    }
   ],
   "source": [
    "# Neural network definition\n",
    "class NeuralNetwork(nn.Module):\n",
    "    def __init__(self):\n",
    "        super().__init__()\n",
    "        self.flatten = nn.Flatten()\n",
    "        self.linear_relu_stack = nn.Sequential(\n",
    "            nn.Linear(28*28, 512),\n",
    "            nn.ReLU(),\n",
    "            nn.Linear(512, 512),\n",
    "            nn.ReLU(),\n",
    "            nn.Linear(512, 10)\n",
    "        )\n",
    "\n",
    "    def forward(self, x):\n",
    "        x = self.flatten(x)\n",
    "        logits = self.linear_relu_stack(x)\n",
    "        return logits\n",
    "\n",
    "model = NeuralNetwork().to(device)\n",
    "print(model)"
   ],
   "metadata": {
    "collapsed": false,
    "ExecuteTime": {
     "end_time": "2024-03-10T12:44:25.641759Z",
     "start_time": "2024-03-10T12:44:24.363899400Z"
    }
   },
   "id": "2b2a3730625f217"
  },
  {
   "cell_type": "code",
   "execution_count": 6,
   "outputs": [],
   "source": [
    "loss_fn = nn.CrossEntropyLoss()\n",
    "optimizer = torch.optim.SGD(model.parameters(), lr=1e-3)"
   ],
   "metadata": {
    "collapsed": false,
    "ExecuteTime": {
     "end_time": "2024-03-10T12:47:32.232293Z",
     "start_time": "2024-03-10T12:47:32.129825800Z"
    }
   },
   "id": "a68ebc3acb3f940f"
  },
  {
   "cell_type": "code",
   "execution_count": 7,
   "outputs": [],
   "source": [
    "def train(dataloader, model, loss_fn, optimizer):\n",
    "    size = len(dataloader.dataset)\n",
    "    model.train()\n",
    "    for batch, (X, y) in enumerate(dataloader):\n",
    "        X, y = X.to(device), y.to(device)\n",
    "\n",
    "        # Compute prediction error\n",
    "        pred = model(X)\n",
    "        loss = loss_fn(pred, y)\n",
    "\n",
    "        # Backpropagation\n",
    "        loss.backward()\n",
    "        optimizer.step()\n",
    "        optimizer.zero_grad()\n",
    "\n",
    "        if batch % 100 == 0:\n",
    "            loss, current = loss.item(), (batch + 1) * len(X)\n",
    "            print(f\"loss: {loss:>7f}  [{current:>5d}/{size:>5d}]\")"
   ],
   "metadata": {
    "collapsed": false,
    "ExecuteTime": {
     "end_time": "2024-03-10T12:49:31.792270300Z",
     "start_time": "2024-03-10T12:49:31.749371100Z"
    }
   },
   "id": "61d5a19c73750e49"
  },
  {
   "cell_type": "code",
   "execution_count": 9,
   "outputs": [],
   "source": [
    "def test(dataloader, model, loss_fn):\n",
    "    size = len(dataloader.dataset)\n",
    "    num_batches = len(dataloader)\n",
    "    model.eval()\n",
    "    test_loss, correct = 0, 0\n",
    "    with torch.no_grad():\n",
    "        for X, y in dataloader:\n",
    "            X, y = X.to(device), y.to(device)\n",
    "            pred = model(X)\n",
    "            test_loss += loss_fn(pred, y).item()\n",
    "            correct += (pred.argmax(1) == y).type(torch.float).sum().item()\n",
    "    test_loss /= num_batches\n",
    "    correct /= size\n",
    "    print(f\"Test Error: \\n Accuracy: {(100*correct):>0.1f}%, Avg loss: {test_loss:>8f} \\n\")"
   ],
   "metadata": {
    "collapsed": false,
    "ExecuteTime": {
     "end_time": "2024-03-10T12:49:47.770901900Z",
     "start_time": "2024-03-10T12:49:47.441825900Z"
    }
   },
   "id": "a70755a6ccd05201"
  },
  {
   "cell_type": "code",
   "execution_count": 10,
   "outputs": [
    {
     "name": "stdout",
     "output_type": "stream",
     "text": [
      "Epoch 1\n",
      "-------------------------------\n",
      "loss: 2.306253  [   64/60000]\n",
      "loss: 2.289824  [ 6464/60000]\n",
      "loss: 2.275700  [12864/60000]\n",
      "loss: 2.272711  [19264/60000]\n",
      "loss: 2.247586  [25664/60000]\n",
      "loss: 2.236117  [32064/60000]\n",
      "loss: 2.231787  [38464/60000]\n",
      "loss: 2.213136  [44864/60000]\n",
      "loss: 2.210478  [51264/60000]\n",
      "loss: 2.176194  [57664/60000]\n",
      "Test Error: \n",
      " Accuracy: 51.8%, Avg loss: 2.170983 \n",
      "\n",
      "Epoch 2\n",
      "-------------------------------\n",
      "loss: 2.182280  [   64/60000]\n",
      "loss: 2.169170  [ 6464/60000]\n",
      "loss: 2.121890  [12864/60000]\n",
      "loss: 2.140348  [19264/60000]\n",
      "loss: 2.080919  [25664/60000]\n",
      "loss: 2.038374  [32064/60000]\n",
      "loss: 2.056113  [38464/60000]\n",
      "loss: 1.991420  [44864/60000]\n",
      "loss: 2.001707  [51264/60000]\n",
      "loss: 1.926325  [57664/60000]\n",
      "Test Error: \n",
      " Accuracy: 61.1%, Avg loss: 1.925990 \n",
      "\n",
      "Epoch 3\n",
      "-------------------------------\n",
      "loss: 1.956409  [   64/60000]\n",
      "loss: 1.928994  [ 6464/60000]\n",
      "loss: 1.817448  [12864/60000]\n",
      "loss: 1.859545  [19264/60000]\n",
      "loss: 1.742462  [25664/60000]\n",
      "loss: 1.696514  [32064/60000]\n",
      "loss: 1.712846  [38464/60000]\n",
      "loss: 1.616517  [44864/60000]\n",
      "loss: 1.645990  [51264/60000]\n",
      "loss: 1.529283  [57664/60000]\n",
      "Test Error: \n",
      " Accuracy: 62.1%, Avg loss: 1.551159 \n",
      "\n",
      "Epoch 4\n",
      "-------------------------------\n",
      "loss: 1.618072  [   64/60000]\n",
      "loss: 1.582044  [ 6464/60000]\n",
      "loss: 1.427299  [12864/60000]\n",
      "loss: 1.497551  [19264/60000]\n",
      "loss: 1.368286  [25664/60000]\n",
      "loss: 1.369703  [32064/60000]\n",
      "loss: 1.378310  [38464/60000]\n",
      "loss: 1.300374  [44864/60000]\n",
      "loss: 1.342749  [51264/60000]\n",
      "loss: 1.230555  [57664/60000]\n",
      "Test Error: \n",
      " Accuracy: 63.3%, Avg loss: 1.261750 \n",
      "\n",
      "Epoch 5\n",
      "-------------------------------\n",
      "loss: 1.344147  [   64/60000]\n",
      "loss: 1.325815  [ 6464/60000]\n",
      "loss: 1.150822  [12864/60000]\n",
      "loss: 1.257614  [19264/60000]\n",
      "loss: 1.125005  [25664/60000]\n",
      "loss: 1.157189  [32064/60000]\n",
      "loss: 1.176770  [38464/60000]\n",
      "loss: 1.108236  [44864/60000]\n",
      "loss: 1.155911  [51264/60000]\n",
      "loss: 1.062541  [57664/60000]\n",
      "Test Error: \n",
      " Accuracy: 64.7%, Avg loss: 1.088640 \n",
      "\n",
      "Done!\n"
     ]
    }
   ],
   "source": [
    "epochs = 5\n",
    "for t in range(epochs):\n",
    "    print(f\"Epoch {t+1}\\n-------------------------------\")\n",
    "    train(train_dataloader, model, loss_fn, optimizer)\n",
    "    test(test_dataloader, model, loss_fn)\n",
    "print(\"Done!\")"
   ],
   "metadata": {
    "collapsed": false,
    "ExecuteTime": {
     "end_time": "2024-03-10T12:51:58.584494400Z",
     "start_time": "2024-03-10T12:49:49.891569800Z"
    }
   },
   "id": "22c62f0b8966f3e"
  }
 ],
 "metadata": {
  "kernelspec": {
   "display_name": "Python 3",
   "language": "python",
   "name": "python3"
  },
  "language_info": {
   "codemirror_mode": {
    "name": "ipython",
    "version": 2
   },
   "file_extension": ".py",
   "mimetype": "text/x-python",
   "name": "python",
   "nbconvert_exporter": "python",
   "pygments_lexer": "ipython2",
   "version": "2.7.6"
  }
 },
 "nbformat": 4,
 "nbformat_minor": 5
}
