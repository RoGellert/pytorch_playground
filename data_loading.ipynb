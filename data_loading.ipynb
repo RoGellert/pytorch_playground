{
 "cells": [
  {
   "cell_type": "code",
   "execution_count": 1,
   "id": "initial_id",
   "metadata": {
    "collapsed": true,
    "ExecuteTime": {
     "end_time": "2024-03-11T17:51:54.725885100Z",
     "start_time": "2024-03-11T17:51:30.720274500Z"
    }
   },
   "outputs": [],
   "source": [
    "# https://pytorch.org/tutorials/beginner/basics/quickstart_tutorial.html\n",
    "import torch\n",
    "from torch import nn\n",
    "from torch.utils.data import DataLoader\n",
    "from torchvision import datasets\n",
    "from torchvision.transforms import ToTensor"
   ]
  },
  {
   "cell_type": "code",
   "execution_count": 2,
   "outputs": [],
   "source": [
    "training_data = datasets.FashionMNIST(\n",
    "    root=\"data\",\n",
    "    train=True,\n",
    "    download=True,\n",
    "    transform=ToTensor(),\n",
    ")\n",
    "\n",
    "test_data = datasets.FashionMNIST(\n",
    "    root=\"data\",\n",
    "    train=False,\n",
    "    download=True,\n",
    "    transform=ToTensor(),\n",
    ")"
   ],
   "metadata": {
    "collapsed": false,
    "ExecuteTime": {
     "end_time": "2024-03-11T17:51:55.561446700Z",
     "start_time": "2024-03-11T17:51:54.728933100Z"
    }
   },
   "id": "5e629fb2f5ba71de"
  },
  {
   "cell_type": "code",
   "execution_count": 3,
   "outputs": [
    {
     "name": "stdout",
     "output_type": "stream",
     "text": [
      "Shape of X [N, C, H, W]: torch.Size([64, 1, 28, 28])\n",
      "Shape of y: torch.Size([64]) torch.int64\n"
     ]
    }
   ],
   "source": [
    "batch_size = 64\n",
    "\n",
    "# Create data loaders.\n",
    "train_dataloader = DataLoader(training_data, batch_size=batch_size)\n",
    "test_dataloader = DataLoader(test_data, batch_size=batch_size)\n",
    "\n",
    "for X, y in test_dataloader:\n",
    "    print(f\"Shape of X [N, C, H, W]: {X.shape}\")\n",
    "    print(f\"Shape of y: {y.shape} {y.dtype}\")\n",
    "    break"
   ],
   "metadata": {
    "collapsed": false,
    "ExecuteTime": {
     "end_time": "2024-03-11T17:51:55.653447100Z",
     "start_time": "2024-03-11T17:51:55.567449100Z"
    }
   },
   "id": "9fe7d7d7afe74283"
  },
  {
   "cell_type": "code",
   "execution_count": 4,
   "outputs": [
    {
     "name": "stdout",
     "output_type": "stream",
     "text": [
      "Using cuda device\n"
     ]
    }
   ],
   "source": [
    "device = (\n",
    "    \"cuda\"\n",
    "    if torch.cuda.is_available()\n",
    "    else \"mps\"\n",
    "    if torch.backends.mps.is_available()\n",
    "    else \"cpu\"\n",
    ")\n",
    "print(f\"Using {device} device\")"
   ],
   "metadata": {
    "collapsed": false,
    "ExecuteTime": {
     "end_time": "2024-03-11T17:51:58.450294800Z",
     "start_time": "2024-03-11T17:51:55.644448800Z"
    }
   },
   "id": "d91bcfb32a21cb8c"
  },
  {
   "cell_type": "code",
   "execution_count": 5,
   "outputs": [
    {
     "name": "stdout",
     "output_type": "stream",
     "text": [
      "NeuralNetwork(\n",
      "  (flatten): Flatten(start_dim=1, end_dim=-1)\n",
      "  (linear_relu_stack): Sequential(\n",
      "    (0): Linear(in_features=784, out_features=512, bias=True)\n",
      "    (1): ReLU()\n",
      "    (2): Linear(in_features=512, out_features=512, bias=True)\n",
      "    (3): ReLU()\n",
      "    (4): Linear(in_features=512, out_features=10, bias=True)\n",
      "  )\n",
      ")\n"
     ]
    }
   ],
   "source": [
    "# Neural network definition\n",
    "class NeuralNetwork(nn.Module):\n",
    "    def __init__(self):\n",
    "        super().__init__()\n",
    "        self.flatten = nn.Flatten()\n",
    "        self.linear_relu_stack = nn.Sequential(\n",
    "            nn.Linear(28*28, 512),\n",
    "            nn.ReLU(),\n",
    "            nn.Linear(512, 512),\n",
    "            nn.ReLU(),\n",
    "            nn.Linear(512, 10)\n",
    "        )\n",
    "\n",
    "    def forward(self, x):\n",
    "        x = self.flatten(x)\n",
    "        logits = self.linear_relu_stack(x)\n",
    "        return logits\n",
    "\n",
    "model = NeuralNetwork().to(device)\n",
    "print(model)"
   ],
   "metadata": {
    "collapsed": false,
    "ExecuteTime": {
     "end_time": "2024-03-11T17:51:58.858777500Z",
     "start_time": "2024-03-11T17:51:58.454297400Z"
    }
   },
   "id": "2b2a3730625f217"
  },
  {
   "cell_type": "code",
   "execution_count": 6,
   "outputs": [],
   "source": [
    "loss_fn = nn.CrossEntropyLoss()\n",
    "optimizer = torch.optim.SGD(model.parameters(), lr=1e-3)"
   ],
   "metadata": {
    "collapsed": false,
    "ExecuteTime": {
     "end_time": "2024-03-11T17:51:58.916777300Z",
     "start_time": "2024-03-11T17:51:58.863811500Z"
    }
   },
   "id": "a68ebc3acb3f940f"
  },
  {
   "cell_type": "code",
   "execution_count": 7,
   "outputs": [],
   "source": [
    "def train(dataloader, model, loss_fn, optimizer):\n",
    "    size = len(dataloader.dataset)\n",
    "    model.train()\n",
    "    for batch, (X, y) in enumerate(dataloader):\n",
    "        X, y = X.to(device), y.to(device)\n",
    "\n",
    "        # Compute prediction error\n",
    "        pred = model(X)\n",
    "        loss = loss_fn(pred, y)\n",
    "\n",
    "        # Backpropagation\n",
    "        loss.backward()\n",
    "        optimizer.step()\n",
    "        optimizer.zero_grad()\n",
    "\n",
    "        if batch % 100 == 0:\n",
    "            loss, current = loss.item(), (batch + 1) * len(X)\n",
    "            print(f\"loss: {loss:>7f}  [{current:>5d}/{size:>5d}]\")"
   ],
   "metadata": {
    "collapsed": false,
    "ExecuteTime": {
     "end_time": "2024-03-11T17:51:58.931780Z",
     "start_time": "2024-03-11T17:51:58.882778600Z"
    }
   },
   "id": "61d5a19c73750e49"
  },
  {
   "cell_type": "code",
   "execution_count": 8,
   "outputs": [],
   "source": [
    "def test(dataloader, model, loss_fn):\n",
    "    size = len(dataloader.dataset)\n",
    "    num_batches = len(dataloader)\n",
    "    model.eval()\n",
    "    test_loss, correct = 0, 0\n",
    "    with torch.no_grad():\n",
    "        for X, y in dataloader:\n",
    "            X, y = X.to(device), y.to(device)\n",
    "            pred = model(X)\n",
    "            test_loss += loss_fn(pred, y).item()\n",
    "            correct += (pred.argmax(1) == y).type(torch.float).sum().item()\n",
    "    test_loss /= num_batches\n",
    "    correct /= size\n",
    "    print(f\"Test Error: \\n Accuracy: {(100*correct):>0.1f}%, Avg loss: {test_loss:>8f} \\n\")"
   ],
   "metadata": {
    "collapsed": false,
    "ExecuteTime": {
     "end_time": "2024-03-11T17:51:58.932781200Z",
     "start_time": "2024-03-11T17:51:58.897778500Z"
    }
   },
   "id": "a70755a6ccd05201"
  },
  {
   "cell_type": "code",
   "execution_count": 9,
   "outputs": [
    {
     "name": "stdout",
     "output_type": "stream",
     "text": [
      "Epoch 1\n",
      "-------------------------------\n",
      "loss: 2.289239  [   64/60000]\n",
      "loss: 2.286000  [ 6464/60000]\n",
      "loss: 2.264806  [12864/60000]\n",
      "loss: 2.275487  [19264/60000]\n",
      "loss: 2.236501  [25664/60000]\n",
      "loss: 2.216798  [32064/60000]\n",
      "loss: 2.223809  [38464/60000]\n",
      "loss: 2.182465  [44864/60000]\n",
      "loss: 2.177120  [51264/60000]\n",
      "loss: 2.162210  [57664/60000]\n",
      "Test Error: \n",
      " Accuracy: 41.5%, Avg loss: 2.145677 \n",
      "\n",
      "Epoch 2\n",
      "-------------------------------\n",
      "loss: 2.142240  [   64/60000]\n",
      "loss: 2.138559  [ 6464/60000]\n",
      "loss: 2.075991  [12864/60000]\n",
      "loss: 2.106141  [19264/60000]\n",
      "loss: 2.030932  [25664/60000]\n",
      "loss: 1.982898  [32064/60000]\n",
      "loss: 2.004873  [38464/60000]\n",
      "loss: 1.922408  [44864/60000]\n",
      "loss: 1.921152  [51264/60000]\n",
      "loss: 1.856256  [57664/60000]\n",
      "Test Error: \n",
      " Accuracy: 55.1%, Avg loss: 1.849556 \n",
      "\n",
      "Epoch 3\n",
      "-------------------------------\n",
      "loss: 1.874682  [   64/60000]\n",
      "loss: 1.851214  [ 6464/60000]\n",
      "loss: 1.726748  [12864/60000]\n",
      "loss: 1.779404  [19264/60000]\n",
      "loss: 1.656048  [25664/60000]\n",
      "loss: 1.620877  [32064/60000]\n",
      "loss: 1.637273  [38464/60000]\n",
      "loss: 1.550905  [44864/60000]\n",
      "loss: 1.568218  [51264/60000]\n",
      "loss: 1.469014  [57664/60000]\n",
      "Test Error: \n",
      " Accuracy: 60.5%, Avg loss: 1.487251 \n",
      "\n",
      "Epoch 4\n",
      "-------------------------------\n",
      "loss: 1.549499  [   64/60000]\n",
      "loss: 1.524542  [ 6464/60000]\n",
      "loss: 1.373895  [12864/60000]\n",
      "loss: 1.453524  [19264/60000]\n",
      "loss: 1.335146  [25664/60000]\n",
      "loss: 1.336518  [32064/60000]\n",
      "loss: 1.347754  [38464/60000]\n",
      "loss: 1.286759  [44864/60000]\n",
      "loss: 1.312358  [51264/60000]\n",
      "loss: 1.219710  [57664/60000]\n",
      "Test Error: \n",
      " Accuracy: 62.8%, Avg loss: 1.243194 \n",
      "\n",
      "Epoch 5\n",
      "-------------------------------\n",
      "loss: 1.314922  [   64/60000]\n",
      "loss: 1.304697  [ 6464/60000]\n",
      "loss: 1.138259  [12864/60000]\n",
      "loss: 1.250444  [19264/60000]\n",
      "loss: 1.129215  [25664/60000]\n",
      "loss: 1.150742  [32064/60000]\n",
      "loss: 1.172405  [38464/60000]\n",
      "loss: 1.119729  [44864/60000]\n",
      "loss: 1.149028  [51264/60000]\n",
      "loss: 1.071304  [57664/60000]\n",
      "Test Error: \n",
      " Accuracy: 64.4%, Avg loss: 1.089067 \n",
      "\n",
      "Done!\n"
     ]
    }
   ],
   "source": [
    "epochs = 5\n",
    "for t in range(epochs):\n",
    "    print(f\"Epoch {t+1}\\n-------------------------------\")\n",
    "    train(train_dataloader, model, loss_fn, optimizer)\n",
    "    test(test_dataloader, model, loss_fn)\n",
    "print(\"Done!\")"
   ],
   "metadata": {
    "collapsed": false,
    "ExecuteTime": {
     "end_time": "2024-03-11T17:52:59.402222600Z",
     "start_time": "2024-03-11T17:51:58.907778400Z"
    }
   },
   "id": "22c62f0b8966f3e"
  },
  {
   "cell_type": "code",
   "execution_count": 10,
   "outputs": [
    {
     "name": "stdout",
     "output_type": "stream",
     "text": [
      "Saved PyTorch Model State to model.pth\n"
     ]
    }
   ],
   "source": [
    "torch.save(model.state_dict(), \"model.pth\")\n",
    "print(\"Saved PyTorch Model State to model.pth\")"
   ],
   "metadata": {
    "collapsed": false,
    "ExecuteTime": {
     "end_time": "2024-03-11T17:52:59.464401500Z",
     "start_time": "2024-03-11T17:52:59.395273200Z"
    }
   },
   "id": "6e8a2d8942e30d4b"
  },
  {
   "cell_type": "code",
   "execution_count": 11,
   "outputs": [
    {
     "data": {
      "text/plain": "<All keys matched successfully>"
     },
     "execution_count": 11,
     "metadata": {},
     "output_type": "execute_result"
    }
   ],
   "source": [
    "model = NeuralNetwork().to(device)\n",
    "model.load_state_dict(torch.load(\"model.pth\"))"
   ],
   "metadata": {
    "collapsed": false,
    "ExecuteTime": {
     "end_time": "2024-03-11T17:53:00.047303800Z",
     "start_time": "2024-03-11T17:52:59.457400600Z"
    }
   },
   "id": "f5a3a1e1853a66af"
  },
  {
   "cell_type": "code",
   "execution_count": 19,
   "outputs": [
    {
     "name": "stdout",
     "output_type": "stream",
     "text": [
      "Predicted: \"Ankle boot\", Actual: \"Ankle boot\"\n"
     ]
    }
   ],
   "source": [
    "classes = [\n",
    "    \"T-shirt/top\",\n",
    "    \"Trouser\",\n",
    "    \"Pullover\",\n",
    "    \"Dress\",\n",
    "    \"Coat\",\n",
    "    \"Sandal\",\n",
    "    \"Shirt\",\n",
    "    \"Sneaker\",\n",
    "    \"Bag\",\n",
    "    \"Ankle boot\",\n",
    "]\n",
    "\n",
    "model.eval()\n",
    "x, y = test_data[0][0], test_data[0][1]\n",
    "with torch.no_grad():\n",
    "    x = x.to(device)\n",
    "    pred = model(x)\n",
    "    predicted, actual = classes[pred[0].argmax(0)], classes[y]\n",
    "    print(f'Predicted: \"{predicted}\", Actual: \"{actual}\"')"
   ],
   "metadata": {
    "collapsed": false,
    "ExecuteTime": {
     "end_time": "2024-03-11T17:54:14.738444500Z",
     "start_time": "2024-03-11T17:54:13.815600Z"
    }
   },
   "id": "ad8733ecd85ccb88"
  }
 ],
 "metadata": {
  "kernelspec": {
   "display_name": "Python 3",
   "language": "python",
   "name": "python3"
  },
  "language_info": {
   "codemirror_mode": {
    "name": "ipython",
    "version": 2
   },
   "file_extension": ".py",
   "mimetype": "text/x-python",
   "name": "python",
   "nbconvert_exporter": "python",
   "pygments_lexer": "ipython2",
   "version": "2.7.6"
  }
 },
 "nbformat": 4,
 "nbformat_minor": 5
}
